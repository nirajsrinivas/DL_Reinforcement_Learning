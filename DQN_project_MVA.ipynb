{
 "cells": [
  {
   "cell_type": "markdown",
   "metadata": {},
   "source": [
    "**You may need to install [OpenCV](https://pypi.python.org/pypi/opencv-python) and [scikit-video](http://www.scikit-video.org/stable/).**"
   ]
  },
  {
   "cell_type": "code",
   "execution_count": null,
   "metadata": {},
   "outputs": [],
   "source": [
    "import keras\n",
    "import numpy as np\n",
    "import io\n",
    "import base64\n",
    "from IPython.display import HTML\n",
    "import skvideo.io\n",
    "import cv2\n",
    "import json\n",
    "\n",
    "from keras.models import Sequential,model_from_json\n",
    "from keras.layers.core import Dense\n",
    "from keras.optimizers import sgd, Adam\n",
    "from keras.layers import Conv2D, MaxPooling2D, Activation, AveragePooling2D,Reshape,BatchNormalization, Flatten\n",
    "import skvideo\n",
    "import skvideo.io\n",
    "import collections"
   ]
  },
  {
   "cell_type": "markdown",
   "metadata": {},
   "source": [
    "# MiniProject on Deep Reinforcement Learning"
   ]
  },
  {
   "cell_type": "markdown",
   "metadata": {},
   "source": [
    "__Notations__: $E_p$ is the expectation under probability $p$. Please justify each of your answer and widely comment your code."
   ]
  },
  {
   "cell_type": "markdown",
   "metadata": {},
   "source": [
    "# Context"
   ]
  },
  {
   "cell_type": "markdown",
   "metadata": {},
   "source": [
    "In a reinforcement learning algorithm, we modelize each step $t$ as an action $a_t$ obtained from a state $s_t$, i.e. $\\{(a_{t},s_{t})_{t\\leq T}\\}$ having the Markov property. We consider a discount factor $\\gamma \\in [0,1]$ that ensures convergence. The goal is to find among all the policies $\\pi$, one that maximizes the expected reward:\n",
    "\n",
    "\\begin{equation*}\n",
    "R(\\pi)=\\sum_{t\\leq T}E_{p^{\\pi}}[\\gamma^t r(s_{t},a_{t})] \\> ,\n",
    "\\end{equation*}\n",
    "\n",
    "where: \n",
    "\\begin{equation*}p^{\\pi}(a_{0},a_{1},s_{1},...,a_{T},s_{T})=p(a_{0})\\prod_{t=1}^{T}\\pi(a_{t}|s_{t})p(s_{t+1}|s_{t},a_{t}) \\> .\n",
    "\\end{equation*}\n",
    "\n",
    "We note the $Q$-function:\n",
    "\n",
    "\\begin{equation*}Q^\\pi(s,a)=E_{p^{\\pi}}[\\sum_{t\\leq T}\\gamma^{t}r(s_{t},a_{t})|s_{0}=s,a_{0}=a] \\> .\n",
    "\\end{equation*}\n",
    "\n",
    "Thus, the optimal Q function is:\n",
    "\\begin{equation*}\n",
    "Q^*(s,a)=\\max_{\\pi}Q^\\pi(s,a) \\> .\n",
    "\\end{equation*}\n",
    "\n",
    "In this project, we will apply the deep reinforcement learning techniques to a simple game: an agent will have to learn from scratch a policy that will permit it maximizing a reward."
   ]
  },
  {
   "cell_type": "markdown",
   "metadata": {},
   "source": [
    "## The environment, the agent and the game"
   ]
  },
  {
   "cell_type": "markdown",
   "metadata": {},
   "source": [
    "### The environment"
   ]
  },
  {
   "cell_type": "markdown",
   "metadata": {},
   "source": [
    "```Environment``` is an abstract class that represents the states, rewards, and actions to obtain the new state."
   ]
  },
  {
   "cell_type": "code",
   "execution_count": null,
   "metadata": {
    "collapsed": true
   },
   "outputs": [],
   "source": [
    "class Environment(object):\n",
    "    def __init__(self):\n",
    "        pass\n",
    "\n",
    "    def act(self, act):\n",
    "        \"\"\"\n",
    "        One can act on the environment and obtain its reaction:\n",
    "        - the new state\n",
    "        - the reward of the new state\n",
    "        - should we continue the game?\n",
    "\n",
    "        :return: state, reward, game_over\n",
    "        \"\"\"\n",
    "        pass\n",
    "\n",
    "\n",
    "    def reset(self):\n",
    "        \"\"\"\n",
    "        Reinitialize the environment to a random state and returns\n",
    "        the original state\n",
    "\n",
    "        :return: state\n",
    "        \"\"\"\n",
    "        pass\n",
    "    \n",
    "    def draw(self):\n",
    "        \"\"\"\n",
    "        Visualize in the console or graphically the current state\n",
    "        \"\"\"\n",
    "        pass"
   ]
  },
  {
   "cell_type": "markdown",
   "metadata": {},
   "source": [
    "The method ```act``` allows to act on the environment at a given state $s_t$ (stored internally), via action $a_t$. The method will return the new state $s_{t+1}$, the reward $r(s_{t},a_{t})$ and determines if $t\\leq T$ (*game_over*).\n",
    "\n",
    "The method ```reset``` simply reinitializes the environment to a random state $s_0$.\n",
    "\n",
    "The method ```draw``` displays the current state $s_t$ (this is useful to check the behavior of the Agent).\n",
    "\n",
    "We modelize $s_t$ as a tensor, while $a_t$ is an integer."
   ]
  },
  {
   "cell_type": "markdown",
   "metadata": {},
   "source": [
    "### The Agent"
   ]
  },
  {
   "cell_type": "markdown",
   "metadata": {},
   "source": [
    "The goal of the ```Agent``` is to interact with the ```Environment``` by proposing actions $a_t$ obtained from a given state $s_t$ to attempt to maximize its __reward__ $r(s_t,a_t)$. We propose the following abstract class:"
   ]
  },
  {
   "cell_type": "code",
   "execution_count": 83,
   "metadata": {},
   "outputs": [],
   "source": [
    "class Agent(object):\n",
    "    def __init__(self, epsilon=0.1, n_action=4):\n",
    "        self.epsilon = epsilon\n",
    "        self.n_action = n_action\n",
    "    \n",
    "    def set_epsilon(self,e):\n",
    "        self.epsilon = e\n",
    "\n",
    "    def act(self,s,train=True):\n",
    "        \"\"\" This function should return the next action to do:\n",
    "        an integer between 0 and 4 (not included) with a random exploration of epsilon\"\"\"\n",
    "        if train:\n",
    "            if np.random.rand() <= self.epsilon:\n",
    "                a = np.random.randint(0, self.n_action, size=1)[0]\n",
    "            else:\n",
    "                a = self.learned_act(s)\n",
    "        else: # in some cases, this can improve the performance.. remove it if poor performances\n",
    "            a = self.learned_act(s)\n",
    "\n",
    "        return a\n",
    "\n",
    "    def learned_act(self,s):\n",
    "        \"\"\" Act via the policy of the agent, from a given state s\n",
    "        it proposes an action a\"\"\"\n",
    "        pass\n",
    "\n",
    "    def reinforce(self, s, n_state, a, r, game_over_):\n",
    "        \"\"\" This function is the core of the learning algorithm. \n",
    "        It takes as an input the current state s_, the next state n_s_\n",
    "        the action a_ used to move from s_ to n_s_ and the reward r_.\n",
    "        \n",
    "        Its goal is to learn a policy.\n",
    "        \"\"\"\n",
    "        pass\n",
    "\n",
    "    def save(self):\n",
    "        \"\"\" This function returns basic stats if applicable: the\n",
    "        loss and/or the model\"\"\"\n",
    "        pass\n",
    "\n",
    "    def load(self):\n",
    "        \"\"\" This function allows to restore a model\"\"\"\n",
    "        pass"
   ]
  },
  {
   "cell_type": "markdown",
   "metadata": {},
   "source": [
    "***\n",
    "__Question 1__:\n",
    "Explain the function act. Why is ```epsilon``` essential?"
   ]
  },
  {
   "cell_type": "markdown",
   "metadata": {},
   "source": [
    "act is basically being used to select the next action. In order to choose the next action to be used, we use an epsilon greedy algorithm to select the same. Depending on a random number generated, we choose to either use the knowledge of best action to take that maximes the cumulative reward if its lower than epsilon, or if it's greater we explore new actions. \n",
    "\n",
    "This helps achieve a tradeoff between exploring new actions and using the best knowledge, both of which are important"
   ]
  },
  {
   "cell_type": "markdown",
   "metadata": {},
   "source": [
    "***\n",
    "### The Game"
   ]
  },
  {
   "cell_type": "markdown",
   "metadata": {},
   "source": [
    "The ```Agent``` and the ```Environment``` work in an interlaced way as in the following (take some time to understand this code as it is the core of the project)\n",
    "\n",
    "```python\n",
    "\n",
    "epoch = 300\n",
    "env = Environment()\n",
    "agent = Agent()\n",
    "\n",
    "\n",
    "# Number of won games\n",
    "score = 0\n",
    "loss = 0\n",
    "\n",
    "\n",
    "for e in range(epoch):\n",
    "    # At each epoch, we restart to a fresh game and get the initial state\n",
    "    state = env.reset()\n",
    "    # This assumes that the games will end\n",
    "    game_over = False\n",
    "\n",
    "    win = 0\n",
    "    lose = 0\n",
    "    \n",
    "    while not game_over:\n",
    "        # The agent performs an action\n",
    "        action = agent.act(state)\n",
    "\n",
    "        # Apply an action to the environment, get the next state, the reward\n",
    "        # and if the games end\n",
    "        prev_state = state\n",
    "        state, reward, game_over = env.act(action)\n",
    "\n",
    "        # Update the counters\n",
    "        if reward > 0:\n",
    "            win = win + reward\n",
    "        if reward < 0:\n",
    "            lose = lose -reward\n",
    "\n",
    "        # Apply the reinforcement strategy\n",
    "        loss = agent.reinforce(prev_state, state,  action, reward, game_over)\n",
    "\n",
    "    # Save as a mp4\n",
    "    if e % 10 == 0:\n",
    "        env.draw(e)\n",
    "\n",
    "    # Update stats\n",
    "    score += win-lose\n",
    "\n",
    "    print(\"Epoch {:03d}/{:03d} | Loss {:.4f} | Win/lose count {}/{} ({})\"\n",
    "          .format(e, epoch, loss, win, lose, win-lose))\n",
    "    agent.save()\n",
    "```"
   ]
  },
  {
   "cell_type": "markdown",
   "metadata": {},
   "source": [
    "# The game, *eat cheese*"
   ]
  },
  {
   "cell_type": "markdown",
   "metadata": {},
   "source": [
    "A rat runs on an island and tries to eat as much as possible. The island is subdivided into $N\\times N$ cells, in which there are cheese (+0.5) and poisonous cells (-1). The rat has a visibility of 2 cells (thus it can see $5^2$ cells). The rat is given a time $T$ to accumulate as much food as possible. It can perform 4 actions: going up, down, left, right. \n",
    "\n",
    "The goal is to code an agent to solve this task that will learn by trial and error. We propose the following environment:"
   ]
  },
  {
   "cell_type": "code",
   "execution_count": 7,
   "metadata": {},
   "outputs": [],
   "source": [
    "class Environment(object):\n",
    "    def __init__(self, grid_size=10, max_time=500, temperature=0.1):\n",
    "        grid_size = grid_size+4\n",
    "        self.grid_size = grid_size\n",
    "        self.max_time = max_time\n",
    "        self.temperature = temperature\n",
    "\n",
    "        #board on which one plays\n",
    "        self.board = np.zeros((grid_size,grid_size))\n",
    "        self.position = np.zeros((grid_size,grid_size))\n",
    "\n",
    "        # coordinate of the cat\n",
    "        self.x = 0\n",
    "        self.y = 1\n",
    "\n",
    "        # self time\n",
    "        self.t = 0\n",
    "\n",
    "        self.scale=16\n",
    "\n",
    "        self.to_draw = np.zeros((max_time+2, grid_size*self.scale, grid_size*self.scale, 3))\n",
    "\n",
    "\n",
    "    def draw(self,e):\n",
    "        skvideo.io.vwrite(str(e) + '.mp4', self.to_draw)\n",
    "\n",
    "    def get_frame(self,t):\n",
    "        b = np.zeros((self.grid_size,self.grid_size,3))+128\n",
    "        b[self.board>0,0] = 256\n",
    "        b[self.board < 0, 2] = 256\n",
    "        b[self.x,self.y,:]=256\n",
    "        b[-2:,:,:]=0\n",
    "        b[:,-2:,:]=0\n",
    "        b[:2,:,:]=0\n",
    "        b[:,:2,:]=0\n",
    "        \n",
    "        b =  cv2.resize(b, None, fx=self.scale, fy=self.scale, interpolation=cv2.INTER_NEAREST)\n",
    "\n",
    "        self.to_draw[t,:,:,:]=b\n",
    "\n",
    "\n",
    "    def act(self, action):\n",
    "        \"\"\"This function returns the new state, reward and decides if the\n",
    "        game ends.\"\"\"\n",
    "\n",
    "        self.get_frame(int(self.t))\n",
    "\n",
    "        self.position = np.zeros((self.grid_size, self.grid_size))\n",
    "\n",
    "        self.position[0:2,:]= -1\n",
    "        self.position[:,0:2] = -1\n",
    "        self.position[-2:, :] = -1\n",
    "        self.position[-2:, :] = -1\n",
    "\n",
    "        self.position[self.x, self.y] = 1\n",
    "        if action == 0:\n",
    "            if self.x == self.grid_size-3:\n",
    "                self.x = self.x-1\n",
    "            else:\n",
    "                self.x = self.x + 1\n",
    "        elif action == 1:\n",
    "            if self.x == 2:\n",
    "                self.x = self.x+1\n",
    "            else:\n",
    "                self.x = self.x-1\n",
    "        elif action == 2:\n",
    "            if self.y == self.grid_size - 3:\n",
    "                self.y = self.y - 1\n",
    "            else:\n",
    "                self.y = self.y + 1\n",
    "        elif action == 3:\n",
    "            if self.y == 2:\n",
    "                self.y = self.y + 1\n",
    "            else:\n",
    "                self.y = self.y - 1\n",
    "        else:\n",
    "            RuntimeError('Error: action not recognized')\n",
    "\n",
    "        self.t = self.t + 1\n",
    "        reward = self.board[self.x, self.y]\n",
    "        self.board[self.x, self.y] = 0\n",
    "        game_over = self.t > self.max_time\n",
    "        state = np.concatenate((self.board.reshape(self.grid_size, self.grid_size,1),\n",
    "                        self.position.reshape(self.grid_size, self.grid_size,1)),axis=2)\n",
    "        state = state[self.x-2:self.x+3,self.y-2:self.y+3,:]\n",
    "\n",
    "        return state, reward, game_over\n",
    "\n",
    "    def reset(self):\n",
    "        \"\"\"This function resets the game and returns the initial state\"\"\"\n",
    "\n",
    "        self.x = np.random.randint(3, self.grid_size-3, size=1)[0]\n",
    "        self.y = np.random.randint(3, self.grid_size-3, size=1)[0]\n",
    "\n",
    "\n",
    "        bonus = 0.5*np.random.binomial(1,self.temperature,size=self.grid_size**2)\n",
    "        bonus = bonus.reshape(self.grid_size,self.grid_size)\n",
    "\n",
    "        malus = -1.0*np.random.binomial(1,self.temperature,size=self.grid_size**2)\n",
    "        malus = malus.reshape(self.grid_size, self.grid_size)\n",
    "\n",
    "        self.to_draw = np.zeros((self.max_time+2, self.grid_size*self.scale, self.grid_size*self.scale, 3))\n",
    "\n",
    "\n",
    "        malus[bonus>0]=0\n",
    "\n",
    "        self.board = bonus + malus\n",
    "\n",
    "        self.position = np.zeros((self.grid_size, self.grid_size))\n",
    "        self.position[0:2,:]= -1\n",
    "        self.position[:,0:2] = -1\n",
    "        self.position[-2:, :] = -1\n",
    "        self.position[-2:, :] = -1\n",
    "        self.board[self.x,self.y] = 0\n",
    "        self.t = 0\n",
    "\n",
    "        state = np.concatenate((\n",
    "                               self.board.reshape(self.grid_size, self.grid_size,1),\n",
    "                        self.position.reshape(self.grid_size, self.grid_size,1)),axis=2)\n",
    "\n",
    "        state = state[self.x - 2:self.x + 3, self.y - 2:self.y + 3, :]\n",
    "        return state"
   ]
  },
  {
   "cell_type": "markdown",
   "metadata": {},
   "source": [
    "The following elements are important because they correspond to the hyper parameters for this project:"
   ]
  },
  {
   "cell_type": "code",
   "execution_count": 27,
   "metadata": {},
   "outputs": [],
   "source": [
    "# parameters\n",
    "size = 13\n",
    "T=200\n",
    "temperature=0.3\n",
    "epochs_train=15 # set small when debugging\n",
    "epochs_test=10 # set small when debugging\n",
    "\n",
    "# display videos\n",
    "def display_videos(name):\n",
    "    video = io.open(name, 'r+b').read()\n",
    "    encoded = base64.b64encode(video)\n",
    "    return '''<video alt=\"test\" controls>\n",
    "                <source src=\"data:video/mp4;base64,{0}\" type=\"video/mp4\" />\n",
    "             </video>'''.format(encoded.decode('ascii'))"
   ]
  },
  {
   "cell_type": "markdown",
   "metadata": {},
   "source": [
    "__Question 2__ Explain the use of the arrays ```position``` and ```board```."
   ]
  },
  {
   "cell_type": "markdown",
   "metadata": {},
   "source": [
    "\n",
    "\n",
    "Position\n",
    "This matrix is used to define the rat position and allowed moves and it is equal to 1 where the rat actually is and 0 everywhere else. Also uses -1 which form the frame\n",
    "\n",
    "Board\n",
    "This matrix is used to define the environment. This matrix contains the rewards for the cat with cheese and poison.\n",
    "\n"
   ]
  },
  {
   "cell_type": "markdown",
   "metadata": {},
   "source": [
    "## Random Agent"
   ]
  },
  {
   "cell_type": "markdown",
   "metadata": {},
   "source": [
    "***\n",
    "__Question 3__ Implement a random Agent (only ```learned_act``` needs to be implemented):"
   ]
  },
  {
   "cell_type": "code",
   "execution_count": 5,
   "metadata": {},
   "outputs": [],
   "source": [
    "class RandomAgent(Agent):\n",
    "    def __init__(self, n_action=4):\n",
    "        super(RandomAgent, self).__init__(n_action)\n",
    "        pass\n",
    "\n",
    "    def learned_act(self, s):\n",
    "        return np.random.randint(0, self.n_action, size=1)[0]  #Chooses a random action"
   ]
  },
  {
   "cell_type": "markdown",
   "metadata": {},
   "source": [
    "***\n",
    "***\n",
    "__Question 4__ Visualize the game moves. You need to fill in the following function for the evaluation:"
   ]
  },
  {
   "cell_type": "code",
   "execution_count": 3,
   "metadata": {},
   "outputs": [],
   "source": [
    "def test(agent, env, epochs, prefix='', frame=5):\n",
    "    # Number of won games\n",
    "    score = 0\n",
    "        \n",
    "    for e in range(1, epochs+1):\n",
    "                \n",
    "        ##### FILL IN HERE\n",
    "        \n",
    "        state = env.reset()\n",
    "        game_over = False\n",
    "        win = 0\n",
    "        lose = 0\n",
    "        \n",
    "        #Play game until it is over which is given by the env\n",
    "        while not game_over:\n",
    "            action = agent.learned_act(state)\n",
    "            prev_state = state\n",
    "            state, reward, game_over = env.act(action)\n",
    "            \n",
    "            if reward > 0:\n",
    "                win += reward\n",
    "            elif reward < 0:\n",
    "                lose -= reward\n",
    "                \n",
    "        # Save as a mp4\n",
    "        env.draw(prefix+str(e))\n",
    "                \n",
    "        # Update stats\n",
    "        score += win-lose\n",
    "                \n",
    "            \n",
    "        print(\"Win/lose count {}/{}. Average score ({})\"\n",
    "              .format(win, lose, score/(1+e)))\n",
    "\n",
    "    print('Final score: '+str(score/epochs))"
   ]
  },
  {
   "cell_type": "code",
   "execution_count": 28,
   "metadata": {},
   "outputs": [
    {
     "name": "stdout",
     "output_type": "stream",
     "text": [
      "Win/lose count 11.0/12.0. Average score (-0.5)\n",
      "Win/lose count 11.0/16.0. Average score (-2.0)\n",
      "Win/lose count 12.5/17.0. Average score (-2.625)\n",
      "Win/lose count 10.0/16.0. Average score (-3.3)\n",
      "Win/lose count 12.0/16.0. Average score (-3.4166666666666665)\n",
      "Win/lose count 8.5/12.0. Average score (-3.4285714285714284)\n",
      "Win/lose count 18.0/13.0. Average score (-2.375)\n",
      "Win/lose count 10.0/11.0. Average score (-2.2222222222222223)\n",
      "Win/lose count 7.5/18.0. Average score (-3.05)\n",
      "Win/lose count 8.5/16.0. Average score (-3.4545454545454546)\n",
      "Final score: -3.8\n"
     ]
    },
    {
     "data": {
      "text/html": [
       "<video alt=\"test\" controls>\n",
       "                <source src=\"data:video/mp4;base64,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\" type=\"video/mp4\" />\n",
       "             </video>"
      ],
      "text/plain": [
       "<IPython.core.display.HTML object>"
      ]
     },
     "execution_count": 28,
     "metadata": {},
     "output_type": "execute_result"
    }
   ],
   "source": [
    "# Initialize the game\n",
    "env = Environment(grid_size=size, max_time=T,temperature=temperature)\n",
    "\n",
    "# Initialize the agent!\n",
    "agent = RandomAgent()\n",
    "\n",
    "test(agent,env,epochs_test,prefix='random')\n",
    "HTML(display_videos('random0.mp4'))"
   ]
  },
  {
   "cell_type": "markdown",
   "metadata": {},
   "source": [
    "***\n",
    "## DQN"
   ]
  },
  {
   "cell_type": "markdown",
   "metadata": {},
   "source": [
    "Let us assume here that $T=\\infty$.\n",
    "\n",
    "***\n",
    "__Question 5__ Let $\\pi$ be a policy, show that:\n",
    "\n",
    "\\begin{equation*}\n",
    "Q^{\\pi}(s,a)=E_{(s',a')\\sim p(.|s,a)}[r(s,a)+\\gamma Q^{\\pi}(s',a')]\n",
    "\\end{equation*}\n",
    "\n",
    "Then, show that for the optimal policy $\\pi^*$ (we assume its existence), the following holds: \n",
    "\n",
    "\\begin{equation*}\n",
    "Q^{*}(s,a)=E_{s'\\sim \\pi^*(.|s,a)}[r(s,a)+\\gamma\\max_{a'}Q^{*}(s',a')].\n",
    "\\end{equation*}\n",
    "Finally, deduce that a plausible objective is:\n",
    "\n",
    "\\begin{equation*}\n",
    "\\mathcal{L}(\\theta)=E_{s' \\sim \\pi^*(.|s,a)}\\Vert r+\\gamma\\max\\max_{a'}Q(s',a',\\theta)-Q(s,a,\\theta)\\Vert^{2}.\n",
    "\\end{equation*}\n",
    "\n",
    "\n"
   ]
  },
  {
   "cell_type": "markdown",
   "metadata": {},
   "source": [
    "__1)__\n",
    "$$\n",
    "\\begin{align*} \n",
    "Q^\\pi(s,a)&=E_{p^{\\pi}}[\\sum_{t=0}^{\\infty}\\gamma^{t}r(s_{t},a_{t})|s_{0}=s,a_{0}=a]\\\\\n",
    "          &=E_{p^{\\pi}}[r(s_0,a_0) + \\gamma\\sum_{t=1}^{\\infty}\\gamma^{t-1}r(s_{t},a_{t})|s_{0}=s,a_{0}=a]\\\\\n",
    "          &=r(s,a) + \\gamma E_{p^{\\pi}}[\\sum_{t=0}^{\\infty}\\gamma^{t}r(s_{t+1},a_{t+1})|s_{0}=s,a_{0}=a]\\\\\n",
    "          &=r(s,a) + E_{(s',a')\\sim p(.|s,a)}\\left(\\gamma E_{p^{\\pi}}[\\sum_{t=0}^{\\infty}\\gamma^{t}r(s_{t},a_{t})|s_{0}=s',a_{0}=a']\\right)\\\\\n",
    "          &=E_{(s',a')\\sim p(.|s,a)}\\left(r(s,a) + \\gamma E_{p^{\\pi}}[\\sum_{t=0}^{\\infty}\\gamma^{t}r(s_{t},a_{t})|s_{0}=s',a_{0}=a']\\right)\\\\\n",
    "          &=E_{(s',a')\\sim p(.|s,a)}\\left(r(s,a) + \\gamma Q^{\\pi}(s',a') \\right)\n",
    "\\end{align*}\n",
    "$$\n",
    "\n",
    "\n",
    "We have $\\pi^*(s') = arg\\max_{a'} Q^{*}(s',a')$, which is deterministic, therefore :\n",
    "$$\n",
    "\\begin{align*}\n",
    "Q^*(s,a)&= E_{(s',a')\\sim p(.|s,a)}\\left(r(s,a) + \\gamma Q^{*}(s',a') \\right)\\\\\n",
    "        &= E_{s'\\sim p(.|s,a)\\,and\\,a'\\sim \\pi^*(.|s')}\\left(r(s,a) + \\gamma Q^{*}(s',a') \\right)\\\\\n",
    "        &= E_{s' \\sim \\pi^*(.|s,a)}\\left(r(s,a) + \\gamma \\max_{a'}Q^{*}(s',a') \\right)\\\\\n",
    "\\end{align*}\n",
    "$$ \n",
    "\n",
    "We've shown that $Q^*(s,a)=E_{s' \\sim \\pi^*(.|s,a)}\\left(r(s,a) + \\gamma \\max_{a'}Q^{*}(s',a') \\right)$, therefore, $Q^*$ is the solution of the equation $F(Q) = 0$ with $$F(Q) = E_{s' \\sim \\pi^*(.|s,a)}\\left(r(s,a) + \\gamma \\max_{a'}Q(s',a') - Q(s,a)\\right)$$\n",
    "\n",
    "Minimizing $\\mathcal{L}(\\theta)=E_{s' \\sim \\pi^*(.|s,a)}\\Vert r+\\gamma\\max_{a'}Q(s',a',\\theta)-Q(s,a,\\theta)\\Vert^{2}$ will hence lead us to find the optimal Q."
   ]
  },
  {
   "cell_type": "markdown",
   "metadata": {},
   "source": [
    "***\n",
    "The DQN-learning algorithm relies on these derivations to train the parameters $\\theta$ of a Deep Neural Network:\n",
    "\n",
    "1. At the state $s_t$, select the action $a_t$ with best reward using $Q_t$ and store the results;\n",
    "\n",
    "2. Obtain the new state $s_{t+1}$ from the environment $p$;\n",
    "\n",
    "3. Store $(s_t,a_t,s_{t+1})$;\n",
    "\n",
    "4. Obtain $Q_{t+1}$ by minimizing  $\\mathcal{L}$ from a recovered batch from the previously stored results.\n",
    "\n",
    "***\n",
    "__Question 6__ Implement the class ```Memory``` that stores moves (in a replay buffer) via ```remember``` and provides a ```random_access``` to these. Specify a maximum memory size to avoid side effects. You can for example use a ```list()``` and set by default ```max_memory=100```."
   ]
  },
  {
   "cell_type": "code",
   "execution_count": 15,
   "metadata": {},
   "outputs": [],
   "source": [
    "class Memory(object):\n",
    "    def __init__(self, max_memory=100):\n",
    "        self.max_memory = max_memory\n",
    "        self.memory = collections.deque(maxlen=max_memory) \n",
    "        \n",
    "    def remember(self, m):\n",
    "        self.memory.append(m)\n",
    "\n",
    "    def random_access(self):\n",
    "        idx = np.random.randint(len(self.memory))\n",
    "        return self.memory[idx]"
   ]
  },
  {
   "cell_type": "markdown",
   "metadata": {},
   "source": [
    "***\n",
    "The pipeline we will use for training is given below:"
   ]
  },
  {
   "cell_type": "code",
   "execution_count": 14,
   "metadata": {},
   "outputs": [],
   "source": [
    "def train(agent,env,epoch,prefix=''):\n",
    "    # Number of won games\n",
    "    score = 0\n",
    "    loss = 0\n",
    "\n",
    "    for e in range(epoch):\n",
    "        # At each epoch, we restart to a fresh game and get the initial state\n",
    "        state = env.reset()\n",
    "        # This assumes that the games will terminate\n",
    "        game_over = False\n",
    "\n",
    "        win = 0\n",
    "        lose = 0\n",
    "\n",
    "        while not game_over:\n",
    "            # The agent performs an action\n",
    "            action = agent.act(state)\n",
    "\n",
    "            # Apply an action to the environment, get the next state, the reward\n",
    "            # and if the games end\n",
    "            prev_state = state\n",
    "            state, reward, game_over = env.act(action)\n",
    "\n",
    "            # Update the counters\n",
    "            if reward > 0:\n",
    "                win = win + reward\n",
    "            if reward < 0:\n",
    "                lose = lose -reward\n",
    "\n",
    "            # Apply the reinforcement strategy\n",
    "            loss = agent.reinforce(prev_state, state,  action, reward, game_over)\n",
    "\n",
    "        # Update stats\n",
    "        score += win-lose\n",
    "        \n",
    "        # Save as a mp4\n",
    "        if e % 10 == 0:\n",
    "            env.draw(prefix+str(e))\n",
    "        \n",
    "        print(\"Epoch {:03d}/{:03d} | Loss {:.4f} | Win/lose count {}/{} ({})\"\n",
    "              .format(e, epoch, loss, win, lose, win-lose))\n",
    "            \n",
    "        agent.save(name_weights=prefix+'model.h5',name_model=prefix+'model.json')"
   ]
  },
  {
   "cell_type": "markdown",
   "metadata": {},
   "source": [
    "***\n",
    "__Question 7__ Implement the DQN training algorithm using a cascade of fully connected layers. You can use different learning rate, batch size or memory size parameters. In particular, the loss might oscillate while the player will start to win the games. You have to find a good criterium."
   ]
  },
  {
   "cell_type": "code",
   "execution_count": 103,
   "metadata": {},
   "outputs": [],
   "source": [
    "class DQN(Agent):\n",
    "    def __init__(self, grid_size,  epsilon = 0.1, memory_size=100, batch_size = 16, n_state=2):\n",
    "        super(DQN, self).__init__(epsilon = epsilon)\n",
    "\n",
    "        # Discount for Q learning\n",
    "        self.discount = 0.99\n",
    "        \n",
    "        self.grid_size = grid_size\n",
    "        \n",
    "        # number of state\n",
    "        self.n_state = n_state\n",
    "\n",
    "        # Memory\n",
    "        self.memory = Memory(memory_size)\n",
    "        \n",
    "        # Batch size when learning\n",
    "        self.batch_size = batch_size\n",
    "\n",
    "    # add epsilon decay method for last question\n",
    "    def set_epsilon(self, e):\n",
    "        self.epsilon *= e # e is the decay percentage\n",
    "        \n",
    "    def learned_act(self, s):\n",
    "        return np.argmax(self.model.predict(np.expand_dims(s, 0)))\n",
    "\n",
    "    def reinforce(self, s_, n_s_, a_, r_, game_over_):\n",
    "        # Two steps: first memorize the states, second learn from the pool\n",
    "        \n",
    "        self.memory.remember([s_, n_s_, a_, r_, game_over_])\n",
    "        \n",
    "        input_states = np.zeros((self.batch_size, 5, 5, self.n_state))\n",
    "        target_q = np.zeros((self.batch_size, 4))\n",
    "        \n",
    "        for i in range(self.batch_size):\n",
    "            # sample minibatch of transitions\n",
    "            # (state, next_state, action, reward, game_over)\n",
    "            s_, n_s, a_, r_, game_over_ = self.memory.random_access()\n",
    "            input_states[i] = s_\n",
    "            \n",
    "            target_q[i] = self.model.predict(np.expand_dims(s_, 0))\n",
    "            \n",
    "            if game_over_:\n",
    "                ######## FILL IN\n",
    "                target_q[i, a_] = r_ #Update final reward\n",
    "            else:\n",
    "                ######## FILL IN\n",
    "                target_q[i, a_] = r_ + self.discount * np.max(self.model.predict(np.expand_dims(n_s, 0))) #Update reward with discount factor\n",
    "                \n",
    "        ######## FILL IN\n",
    "        # HINT: Clip the target to avoid exploiding gradients.. -- clipping is a bit tighter\n",
    "        target_q = np.clip(target_q, -3, 3)\n",
    "        l = self.model.train_on_batch(input_states, target_q)\n",
    "\n",
    "\n",
    "        return l\n",
    "\n",
    "    def save(self,name_weights='model.h5',name_model='model.json'):\n",
    "        self.model.save_weights(name_weights, overwrite=True)\n",
    "        with open(name_model, \"w\") as outfile:\n",
    "            json.dump(self.model.to_json(), outfile)\n",
    "            \n",
    "    def load(self,name_weights='model.h5',name_model='model.json'):\n",
    "        with open(name_model, \"r\") as jfile:\n",
    "            model = model_from_json(json.load(jfile))\n",
    "        model.load_weights(name_weights)\n",
    "        model.compile(\"adam\", \"mse\")\n",
    "        self.model = model\n",
    "\n",
    "            \n",
    "class DQN_FC(DQN):\n",
    "    def __init__(self, *args, lr=0.1, **kwargs):\n",
    "        super(DQN_FC, self).__init__( *args,**kwargs)\n",
    "        \n",
    "        # NN Model\n",
    "        \n",
    "        ####### FILL IN\n",
    "        model = Sequential()\n",
    "        model.add(Dense(20, input_shape=(5, 5, self.n_state), activation='relu'))\n",
    "        model.add(Flatten())\n",
    "        model.add(Dense(10, activation='relu'))\n",
    "        model.add(Dense(4))\n",
    "        adam = Adam(lr=lr)\n",
    "        model.compile(adam, \"mse\")\n",
    "        self.model = model"
   ]
  },
  {
   "cell_type": "code",
   "execution_count": 104,
   "metadata": {},
   "outputs": [
    {
     "name": "stdout",
     "output_type": "stream",
     "text": [
      "Epoch 000/015 | Loss 0.0040 | Win/lose count 4.5/7.0 (-2.5)\n",
      "Epoch 001/015 | Loss 0.0068 | Win/lose count 11.5/3.0 (8.5)\n",
      "Epoch 002/015 | Loss 0.0034 | Win/lose count 11.0/8.0 (3.0)\n",
      "Epoch 003/015 | Loss 0.0071 | Win/lose count 13.5/6.0 (7.5)\n",
      "Epoch 004/015 | Loss 0.0069 | Win/lose count 13.0/6.0 (7.0)\n",
      "Epoch 005/015 | Loss 0.0050 | Win/lose count 6.5/5.0 (1.5)\n",
      "Epoch 006/015 | Loss 0.0037 | Win/lose count 16.5/3.0 (13.5)\n",
      "Epoch 007/015 | Loss 0.1041 | Win/lose count 9.0/4.0 (5.0)\n",
      "Epoch 008/015 | Loss 0.0023 | Win/lose count 13.5/1.0 (12.5)\n",
      "Epoch 009/015 | Loss 0.0019 | Win/lose count 16.0/1.0 (15.0)\n",
      "Epoch 010/015 | Loss 0.0037 | Win/lose count 13.5/5.0 (8.5)\n",
      "Epoch 011/015 | Loss 0.0023 | Win/lose count 11.0/3.0 (8.0)\n",
      "Epoch 012/015 | Loss 0.0028 | Win/lose count 7.0/2.0 (5.0)\n",
      "Epoch 013/015 | Loss 0.0056 | Win/lose count 8.5/5.0 (3.5)\n",
      "Epoch 014/015 | Loss 0.0027 | Win/lose count 9.5/1.0 (8.5)\n"
     ]
    },
    {
     "data": {
      "text/html": [
       "<video alt=\"test\" controls>\n",
       "                <source src=\"data:video/mp4;base64,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\" type=\"video/mp4\" />\n",
       "             </video>"
      ],
      "text/plain": [
       "<IPython.core.display.HTML object>"
      ]
     },
     "execution_count": 104,
     "metadata": {},
     "output_type": "execute_result"
    }
   ],
   "source": [
    "env = Environment(grid_size=size, max_time=T, temperature=temperature)\n",
    "agent = DQN_FC(grid_size=size, lr=.01, epsilon = 0.1, memory_size=50000, batch_size = 32)\n",
    "train(agent, env, epochs_train, prefix='fc_train')\n",
    "HTML(display_videos('fc_train10.mp4'))"
   ]
  },
  {
   "cell_type": "markdown",
   "metadata": {},
   "source": [
    "***\n",
    "***\n",
    "__Question 8__ Implement the DQN training algorithm using a CNN (for example, 2 convolutional layers and one final fully connected layer)."
   ]
  },
  {
   "cell_type": "code",
   "execution_count": 101,
   "metadata": {},
   "outputs": [],
   "source": [
    "class DQN_CNN(DQN):\n",
    "    def __init__(self, *args, lr=0.1,**kwargs):\n",
    "        super(DQN_CNN, self).__init__( *args,**kwargs)\n",
    "        \n",
    "        model = Sequential()\n",
    "        #Best model\n",
    "        model.add(Conv2D(32,(2,2),input_shape=(5,5,self.n_state,),activation='relu'))\n",
    "        model.add(Conv2D(64,(2,2),activation='relu'))\n",
    "        model.add(Flatten())\n",
    "        model.add(Dense(4))\n",
    "        \n",
    "        model.compile(sgd(lr=lr, decay=1e-4, momentum=0.0), \"mse\")\n",
    "        self.model = model"
   ]
  },
  {
   "cell_type": "code",
   "execution_count": 102,
   "metadata": {},
   "outputs": [
    {
     "name": "stdout",
     "output_type": "stream",
     "text": [
      "Epoch 000/015 | Loss 0.0013 | Win/lose count 1.5/0 (1.5)\n",
      "Epoch 001/015 | Loss 0.0007 | Win/lose count 5.0/7.0 (-2.0)\n",
      "Epoch 002/015 | Loss 0.0019 | Win/lose count 2.5/2.0 (0.5)\n",
      "Epoch 003/015 | Loss 0.0059 | Win/lose count 2.0/2.0 (0.0)\n",
      "Epoch 004/015 | Loss 0.0022 | Win/lose count 4.5/3.0 (1.5)\n",
      "Epoch 005/015 | Loss 0.0084 | Win/lose count 3.5/5.0 (-1.5)\n",
      "Epoch 006/015 | Loss 0.0050 | Win/lose count 2.5/6.0 (-3.5)\n",
      "Epoch 007/015 | Loss 0.0182 | Win/lose count 3.0/6.0 (-3.0)\n",
      "Epoch 008/015 | Loss 0.0071 | Win/lose count 8.5/0 (8.5)\n",
      "Epoch 009/015 | Loss 0.0019 | Win/lose count 6.0/2.0 (4.0)\n",
      "Epoch 010/015 | Loss 0.0071 | Win/lose count 5.0/4.0 (1.0)\n",
      "Epoch 011/015 | Loss 0.0008 | Win/lose count 2.5/1.0 (1.5)\n",
      "Epoch 012/015 | Loss 0.0033 | Win/lose count 5.5/5.0 (0.5)\n",
      "Epoch 013/015 | Loss 0.1129 | Win/lose count 9.5/1.0 (8.5)\n",
      "Epoch 014/015 | Loss 0.0016 | Win/lose count 6.0/3.0 (3.0)\n"
     ]
    },
    {
     "data": {
      "text/html": [
       "<video alt=\"test\" controls>\n",
       "                <source src=\"data:video/mp4;base64,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\" type=\"video/mp4\" />\n",
       "             </video>"
      ],
      "text/plain": [
       "<IPython.core.display.HTML object>"
      ]
     },
     "execution_count": 102,
     "metadata": {},
     "output_type": "execute_result"
    }
   ],
   "source": [
    "epochs_train = 15\n",
    "env = Environment(grid_size=size, max_time=T, temperature=0.3)\n",
    "agent = DQN_CNN(size, lr=0.1, epsilon = 0.1, memory_size=5000, batch_size = 16)\n",
    "train(agent,env,epochs_train,prefix='cnn_train')\n",
    "HTML(display_videos('cnn_train10.mp4'))"
   ]
  },
  {
   "cell_type": "markdown",
   "metadata": {},
   "source": [
    "***\n",
    "***\n",
    "__Question 9__ Test both algorithms and compare their performances. Which issue(s) do you observe? Observe also different behaviors by changing the temperature."
   ]
  },
  {
   "cell_type": "code",
   "execution_count": 38,
   "metadata": {},
   "outputs": [
    {
     "name": "stdout",
     "output_type": "stream",
     "text": [
      "Test of the CNN\n",
      "Win/lose count 0.5/1.0. Average score (-0.25)\n",
      "Win/lose count 2.5/0. Average score (0.6666666666666666)\n",
      "Win/lose count 1.5/0. Average score (0.875)\n",
      "Win/lose count 1.0/1.0. Average score (0.7)\n",
      "Win/lose count 1.0/0. Average score (0.75)\n",
      "Win/lose count 1.0/0. Average score (0.7857142857142857)\n",
      "Win/lose count 0/0. Average score (0.6875)\n",
      "Win/lose count 0.5/0. Average score (0.6666666666666666)\n",
      "Win/lose count 0.5/0. Average score (0.65)\n",
      "Win/lose count 0.5/0. Average score (0.6363636363636364)\n",
      "Final score: 0.7\n",
      "Test of the FC\n",
      "Win/lose count 1.0/4.0. Average score (-1.5)\n",
      "Win/lose count 2.0/5.0. Average score (-2.0)\n",
      "Win/lose count 1.5/2.0. Average score (-1.625)\n",
      "Win/lose count 0.5/3.0. Average score (-1.8)\n",
      "Win/lose count 0.5/1.0. Average score (-1.5833333333333333)\n",
      "Win/lose count 0/1.0. Average score (-1.5)\n",
      "Win/lose count 2.5/5.0. Average score (-1.625)\n",
      "Win/lose count 1.0/2.0. Average score (-1.5555555555555556)\n",
      "Win/lose count 0/3.0. Average score (-1.7)\n",
      "Win/lose count 1.5/2.0. Average score (-1.5909090909090908)\n",
      "Final score: -1.75\n"
     ]
    }
   ],
   "source": [
    "env = Environment(grid_size=size, max_time=T,temperature=0.3)\n",
    "agent_cnn = DQN_CNN(size, lr=.01, epsilon = 0.1, memory_size=2000, batch_size = 32)\n",
    "agent_cnn.load(name_weights='cnn_trainmodel.h5',name_model='cnn_trainmodel.json')\n",
    "\n",
    "agent_fc = DQN_FC(size, lr=.01, epsilon = 0.1, memory_size=2000, batch_size = 32)\n",
    "agent_cnn.load(name_weights='fc_trainmodel.h5',name_model='fc_trainmodel.json')\n",
    "print('Test of the CNN')\n",
    "test(agent_cnn,env,epochs_test,prefix='cnn_test')\n",
    "print('Test of the FC')\n",
    "test(agent_fc,env,epochs_test,prefix='fc_test')"
   ]
  },
  {
   "cell_type": "code",
   "execution_count": 39,
   "metadata": {},
   "outputs": [
    {
     "data": {
      "text/html": [
       "<video alt=\"test\" controls>\n",
       "                <source src=\"data:video/mp4;base64,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\" type=\"video/mp4\" />\n",
       "             </video>"
      ],
      "text/plain": [
       "<IPython.core.display.HTML object>"
      ]
     },
     "execution_count": 39,
     "metadata": {},
     "output_type": "execute_result"
    }
   ],
   "source": [
    "HTML(display_videos('cnn_test10.mp4'))"
   ]
  },
  {
   "cell_type": "code",
   "execution_count": 40,
   "metadata": {},
   "outputs": [
    {
     "data": {
      "text/html": [
       "<video alt=\"test\" controls>\n",
       "                <source src=\"data:video/mp4;base64,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\" type=\"video/mp4\" />\n",
       "             </video>"
      ],
      "text/plain": [
       "<IPython.core.display.HTML object>"
      ]
     },
     "execution_count": 40,
     "metadata": {},
     "output_type": "execute_result"
    }
   ],
   "source": [
    "HTML(display_videos('fc_test10.mp4'))"
   ]
  },
  {
   "cell_type": "markdown",
   "metadata": {},
   "source": [
    "CNN outperform FC , however they both end up stuck in a position, keeps oscillating between two positions and thus we need to force the agent to explore in plus. \n",
    "\n",
    "Temperature increases the density of the reward pixel. Therefore it just increases the score. "
   ]
  },
  {
   "cell_type": "markdown",
   "metadata": {},
   "source": [
    "***\n",
    "\n",
    "The algorithm tends to not explore the map which can be an issue. We propose two ideas in order to encourage exploration:\n",
    "1. Incorporating a decreasing $\\epsilon$-greedy exploration. You can use the method ```set_epsilon```\n",
    "2. Append via the environment a new state that describes if a cell has been visited or not\n",
    "\n",
    "***\n",
    "__Question 10__ Design a new ```train_explore``` function and environment class ```EnvironmentExploring``` to tackle the issue of exploration.\n",
    "\n"
   ]
  },
  {
   "cell_type": "code",
   "execution_count": 33,
   "metadata": {},
   "outputs": [],
   "source": [
    "def train_explore(agent, env, epoch, epsilon=0.1, decay=0.99, prefix=''):\n",
    "    # Number of won games\n",
    "    score = 0\n",
    "\n",
    "    for e in range(epoch):\n",
    "        # At each epoch, we restart to a fresh game and get the initial state\n",
    "        state = env.reset()\n",
    "        # This assumes that the games will terminate\n",
    "        game_over = False\n",
    "        win, lose = 0, 0\n",
    "        agent.set_epsilon(epsilon)\n",
    "        while not game_over:\n",
    "            # The agent performs an action\n",
    "            action = agent.act(state)\n",
    "            agent.set_epsilon(decay) # we use epsilon decay to make epsilon decrease over time\n",
    "            # Apply an action to the environment, get the next state, the reward\n",
    "            # and if the games end\n",
    "            prev_state = state\n",
    "            state, reward, game_over = env.act(action, train=True)\n",
    "            # Update the counters\n",
    "            if reward > 0:\n",
    "                win += reward\n",
    "            if reward < 0:\n",
    "                lose -= reward\n",
    "            # Apply the reinforcement strategy\n",
    "            loss = agent.reinforce(prev_state, state, action, reward, game_over)\n",
    "        # Save as a mp4\n",
    "        if e % 10 == 0:\n",
    "            env.draw(prefix+str(e))\n",
    "        # Update stats\n",
    "        score += win-lose\n",
    "        print(\"Epoch {:03d}/{:03d} | Loss {:.4f} | Win/lose count {:3.2f}/{:3.2f} ({:3.2f})\"\n",
    "              .format(e, epoch, loss, win, lose, win-lose))\n",
    "        agent.save(name_weights=prefix+'model.h5',name_model=prefix+'model.json')\n",
    "        \n",
    "        \n",
    "class EnvironmentExploring(object):\n",
    "    def __init__(self, grid_size=10, max_time=500, temperature=0.1):\n",
    "        grid_size = grid_size+4\n",
    "        self.grid_size = grid_size\n",
    "        self.max_time = max_time\n",
    "        self.temperature = temperature\n",
    "        #board on which one plays\n",
    "        self.board = np.zeros((grid_size,grid_size))\n",
    "        self.position = np.zeros((grid_size,grid_size))\n",
    "        self.malus_position = np.zeros((grid_size,grid_size))\n",
    "        # coordinate of the rat\n",
    "        self.x = 0\n",
    "        self.y = 1\n",
    "        # self time\n",
    "        self.t = 0\n",
    "        self.scale=16\n",
    "        self.to_draw = np.zeros((max_time+2, grid_size*self.scale, grid_size*self.scale, 3))\n",
    "\n",
    "    def draw(self,e):\n",
    "        skvideo.io.vwrite(str(e) + '.mp4', self.to_draw)\n",
    "\n",
    "    def get_frame(self,t):\n",
    "        b = np.zeros((self.grid_size,self.grid_size,3))+128\n",
    "        b[self.board>0,0]    = 256\n",
    "        b[self.board<0, 2] = 256\n",
    "        b[self.x,self.y,:]   = 256\n",
    "        b[-2:,:,:] = 0\n",
    "        b[:,-2:,:] = 0\n",
    "        b[:2,:,:]  = 0\n",
    "        b[:,:2,:]  = 0\n",
    "        b =  cv2.resize(b, None, fx=self.scale, fy=self.scale, interpolation=cv2.INTER_NEAREST)\n",
    "        self.to_draw[t,:,:,:]=b\n",
    "\n",
    "\n",
    "    def act(self, action, train=False):\n",
    "        \"\"\"This function returns the new state, reward and decides if the\n",
    "        game ends.\"\"\"\n",
    "        self.get_frame(int(self.t))\n",
    "        self.position = np.zeros((self.grid_size, self.grid_size))\n",
    "        self.position[0:2,:]= -1\n",
    "        self.position[:,0:2] = -1\n",
    "        self.position[-2:, :] = -1 \n",
    "        self.position[:, -2:] = -1\n",
    "        self.position[self.x, self.y] = 1\n",
    "        if action == 0:\n",
    "            if self.x == self.grid_size-3:\n",
    "                self.x = self.x-1\n",
    "            else:\n",
    "                self.x = self.x + 1\n",
    "        elif action == 1:\n",
    "            if self.x == 2:\n",
    "                self.x = self.x+1\n",
    "            else:\n",
    "                self.x = self.x-1\n",
    "        elif action == 2:\n",
    "            if self.y == self.grid_size - 3:\n",
    "                self.y = self.y - 1\n",
    "            else:\n",
    "                self.y = self.y + 1\n",
    "        elif action == 3:\n",
    "            if self.y == 2:\n",
    "                self.y = self.y + 1\n",
    "            else:\n",
    "                self.y = self.y - 1\n",
    "        else:\n",
    "            RuntimeError('Error: action not recognized')\n",
    "\n",
    "        self.t = self.t + 1\n",
    "        \n",
    "        reward = 0\n",
    "        if train:\n",
    "            reward = -self.malus_position[self.x, self.y]\n",
    "            \n",
    "        self.malus_position[self.x, self.y] += 0.1\n",
    "        reward = reward + self.board[self.x, self.y]   \n",
    "        \n",
    "        self.board[self.x, self.y] = 0 # erase reward from board\n",
    "        game_over = self.t > self.max_time # game over if more than 500 steps\n",
    "\n",
    "        state = np.concatenate((self.malus_position.reshape(self.grid_size, self.grid_size,1),\n",
    "                                self.board.reshape(self.grid_size, self.grid_size,1),\n",
    "                                self.position.reshape(self.grid_size, self.grid_size,1)),axis=2)\n",
    "        \n",
    "        state = state[self.x-2:self.x+3,self.y-2:self.y+3,:]\n",
    "\n",
    "        return state, reward, game_over\n",
    "\n",
    "    def reset(self):\n",
    "        \"\"\"This function resets the game and returns the initial state\"\"\"\n",
    "\n",
    "        self.x = np.random.randint(3, self.grid_size-3, size=1)[0]\n",
    "        self.y = np.random.randint(3, self.grid_size-3, size=1)[0]\n",
    "\n",
    "        # add 0.5 of reward in some cases of the board\n",
    "        bonus = 0.5*np.random.binomial(1,self.temperature,size=self.grid_size**2)\n",
    "        bonus = bonus.reshape(self.grid_size,self.grid_size)\n",
    "\n",
    "        # add -1 reward in some cases of the board\n",
    "        malus = -1.0*np.random.binomial(1,self.temperature,size=self.grid_size**2)\n",
    "        malus = malus.reshape(self.grid_size, self.grid_size)\n",
    "\n",
    "        self.to_draw = np.zeros((self.max_time+2, self.grid_size*self.scale, self.grid_size*self.scale, 3))\n",
    "\n",
    "\n",
    "        malus[bonus>0]=0 # if both malus and bonus on the same case -> put 0\n",
    "\n",
    "        self.board = bonus + malus # board is 0 if no reward, -0.5 if malus, 1 if positive reward\n",
    "        \n",
    "        # lines added (put 0 poison/cheese outside the border)\n",
    "        self.board[:2,:] = 0\n",
    "        self.board[-2:,:] = 0\n",
    "        self.board[:, :2] = 0\n",
    "        self.board[:, -2:] = 0\n",
    "\n",
    "        self.position = np.zeros((self.grid_size, self.grid_size))\n",
    "        self.position[0:2,:]= -1\n",
    "        self.position[:,0:2] = -1\n",
    "        self.position[-2:, :] = -1\n",
    "        self.position[:, -2:] = -1\n",
    "        self.board[self.x,self.y] = 0\n",
    "        self.t = 0\n",
    "        \n",
    "        self.malus_position = np.zeros((self.grid_size, self.grid_size))\n",
    "\n",
    "        state = np.concatenate((self.malus_position.reshape(self.grid_size, self.grid_size,1), #As suggested\n",
    "                                self.board.reshape(self.grid_size, self.grid_size,1),\n",
    "                                self.position.reshape(self.grid_size, self.grid_size,1)),axis=2)\n",
    "\n",
    "        state = state[self.x - 2:self.x + 3, self.y - 2:self.y + 3, :]\n",
    "        return state\n",
    "      \n",
    "## use those samples of code:\n",
    "#In train explore:\n",
    "#state, reward, game_over = env.act(action, train=True)\n",
    "\n",
    "## In Environment exploring:\n",
    "# You will have to change n_state to 3 because you will use one more layer!\n",
    "#reward = 0\n",
    "#if train:\n",
    "#    reward = -self.malus_position[self.x, self.y]\n",
    "#self.malus_position[self.x, self.y] = 0.1\n",
    "\n",
    "#reward = reward + self.board[self.x, self.y]\n",
    "# 3 \"feature\" states instead of 2\n",
    "#state = np.concatenate((self.malus_position.reshape(self.grid_size, self.grid_size,1),\n",
    " #                               self.board.reshape(self.grid_size, self.grid_size,1),\n",
    "  #                      self.position.reshape(self.grid_size, self.grid_size,1)),axis=2)"
   ]
  },
  {
   "cell_type": "code",
   "execution_count": 76,
   "metadata": {},
   "outputs": [
    {
     "name": "stdout",
     "output_type": "stream",
     "text": [
      "Epoch 000/030 | Loss 0.0195 | Win/lose count 14.00/46.60 (-32.60)\n",
      "Epoch 001/030 | Loss 0.0159 | Win/lose count 15.50/31.20 (-15.70)\n",
      "Epoch 002/030 | Loss 0.0236 | Win/lose count 17.00/23.30 (-6.30)\n",
      "Epoch 003/030 | Loss 0.0099 | Win/lose count 22.00/23.50 (-1.50)\n",
      "Epoch 004/030 | Loss 0.0140 | Win/lose count 25.50/11.90 (13.60)\n",
      "Epoch 005/030 | Loss 0.0133 | Win/lose count 21.50/11.30 (10.20)\n",
      "Epoch 006/030 | Loss 0.0162 | Win/lose count 26.00/11.90 (14.10)\n",
      "Epoch 007/030 | Loss 0.0454 | Win/lose count 25.00/12.20 (12.80)\n",
      "Epoch 008/030 | Loss 0.0072 | Win/lose count 28.00/10.90 (17.10)\n",
      "Epoch 009/030 | Loss 0.0129 | Win/lose count 15.00/12.60 (2.40)\n",
      "Epoch 010/030 | Loss 0.0205 | Win/lose count 25.50/11.30 (14.20)\n",
      "Epoch 011/030 | Loss 0.0125 | Win/lose count 23.50/12.70 (10.80)\n",
      "Epoch 012/030 | Loss 0.0078 | Win/lose count 25.00/10.80 (14.20)\n",
      "Epoch 013/030 | Loss 0.0160 | Win/lose count 24.00/10.30 (13.70)\n",
      "Epoch 014/030 | Loss 0.0190 | Win/lose count 24.00/11.50 (12.50)\n",
      "Epoch 015/030 | Loss 0.0177 | Win/lose count 26.00/13.00 (13.00)\n",
      "Epoch 016/030 | Loss 0.0107 | Win/lose count 23.50/11.70 (11.80)\n",
      "Epoch 017/030 | Loss 0.0073 | Win/lose count 24.50/14.80 (9.70)\n",
      "Epoch 018/030 | Loss 0.0414 | Win/lose count 23.50/11.50 (12.00)\n",
      "Epoch 019/030 | Loss 0.0122 | Win/lose count 19.50/16.50 (3.00)\n",
      "Epoch 020/030 | Loss 0.0170 | Win/lose count 23.00/19.80 (3.20)\n",
      "Epoch 021/030 | Loss 0.0168 | Win/lose count 26.50/19.00 (7.50)\n",
      "Epoch 022/030 | Loss 0.0172 | Win/lose count 23.50/19.50 (4.00)\n",
      "Epoch 023/030 | Loss 0.0192 | Win/lose count 27.50/14.30 (13.20)\n",
      "Epoch 024/030 | Loss 0.0194 | Win/lose count 21.50/19.70 (1.80)\n",
      "Epoch 025/030 | Loss 0.0646 | Win/lose count 20.00/18.80 (1.20)\n",
      "Epoch 026/030 | Loss 0.0224 | Win/lose count 27.00/16.80 (10.20)\n",
      "Epoch 027/030 | Loss 0.0153 | Win/lose count 25.50/14.60 (10.90)\n",
      "Epoch 028/030 | Loss 0.0377 | Win/lose count 25.50/14.60 (10.90)\n",
      "Epoch 029/030 | Loss 0.0270 | Win/lose count 26.00/17.30 (8.70)\n"
     ]
    },
    {
     "data": {
      "text/html": [
       "<video alt=\"test\" controls>\n",
       "                <source src=\"data:video/mp4;base64,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\" type=\"video/mp4\" />\n",
       "             </video>"
      ],
      "text/plain": [
       "<IPython.core.display.HTML object>"
      ]
     },
     "execution_count": 76,
     "metadata": {},
     "output_type": "execute_result"
    }
   ],
   "source": [
    "# Training\n",
    "epochs_train = 30\n",
    "env = EnvironmentExploring(grid_size=size, max_time=T, temperature=0.3)\n",
    "agent = DQN_CNN(size, lr=.1, epsilon = 0.1, memory_size=2000, batch_size = 32,n_state=3) \n",
    "train_explore(agent, env, epochs_train, prefix='cnn_train_explore')\n",
    "HTML(display_videos('cnn_train_explore10.mp4'))"
   ]
  },
  {
   "cell_type": "code",
   "execution_count": 77,
   "metadata": {},
   "outputs": [
    {
     "name": "stdout",
     "output_type": "stream",
     "text": [
      "Win/lose count 24.5/3.0. Average score (10.75)\n",
      "Win/lose count 24.0/11.0. Average score (11.5)\n",
      "Win/lose count 25.5/10.0. Average score (12.5)\n",
      "Win/lose count 21.5/8.0. Average score (12.7)\n",
      "Win/lose count 25.5/8.0. Average score (13.5)\n",
      "Win/lose count 27.0/7.0. Average score (14.428571428571429)\n",
      "Win/lose count 20.5/6.0. Average score (14.4375)\n",
      "Win/lose count 22.5/6.0. Average score (14.666666666666666)\n",
      "Win/lose count 23.5/9.0. Average score (14.65)\n",
      "Win/lose count 24.0/10.0. Average score (14.590909090909092)\n",
      "Final score: 16.05\n"
     ]
    },
    {
     "data": {
      "text/html": [
       "<video alt=\"test\" controls>\n",
       "                <source src=\"data:video/mp4;base64,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\" type=\"video/mp4\" />\n",
       "             </video>"
      ],
      "text/plain": [
       "<IPython.core.display.HTML object>"
      ]
     },
     "execution_count": 77,
     "metadata": {},
     "output_type": "execute_result"
    }
   ],
   "source": [
    "# Evaluation\n",
    "test(agent,env,epochs_test,prefix='cnn_test_explore')\n",
    "HTML(display_videos('cnn_test_explore10.mp4'))"
   ]
  },
  {
   "cell_type": "markdown",
   "metadata": {},
   "source": [
    "***\n",
    "***\n",
    "__BONUS question__ Use the expert DQN from the previous question to generate some winning games. Train a model that mimicks its behavior. Compare the performances."
   ]
  },
  {
   "cell_type": "code",
   "execution_count": 54,
   "metadata": {},
   "outputs": [],
   "source": [
    "class Mimic_Agent(Agent):\n",
    "    def __init__(self, grid_size,  epsilon = 0.1, memory_size=100, batch_size = 16,n_state=2):\n",
    "        super(Mimic_Agent, self).__init__(epsilon = epsilon)\n",
    "        self.discount = 0.3\n",
    "        self.grid_size = grid_size\n",
    "        self.n_state = n_state\n",
    "        self.memory = Memory(memory_size)\n",
    "        self.batch_size = batch_size\n",
    "\n",
    "    def learned_act(self, s):\n",
    "        return np.argmax(self.model.predict(s.reshape([1,s.shape[0],s.shape[1],s.shape[2]]))[0,:])\n",
    "\n",
    "    def reinforce(self, s_, a_):\n",
    "        # Two steps: first memorize the states, second learn from the pool\n",
    "\n",
    "        self.memory.remember([s_[:,:,1:], a_])\n",
    "        \n",
    "        input_states = np.zeros((self.batch_size, 5,5,self.n_state))\n",
    "        target_q = np.zeros((self.batch_size, 4))\n",
    "        \n",
    "        for i in range(self.batch_size):\n",
    "            s_, a_  = self.memory.random_access()\n",
    "            \n",
    "            target_q[i, a_] = 5\n",
    "            input_states[i] = s_\n",
    "        \n",
    "        l = self.model.train_on_batch(input_states, target_q)\n",
    "        \n",
    "        return l\n",
    "\n",
    "    def save(self,name_weights='model.h5',name_model='model.json'):\n",
    "        self.model.save_weights(name_weights, overwrite=True)\n",
    "        with open(name_model, \"w\") as outfile:\n",
    "            json.dump(self.model.to_json(), outfile)\n",
    "            \n",
    "    def load(self,name_weights='model.h5',name_model='model.json'):\n",
    "        with open(name_model, \"r\") as jfile:\n",
    "            model = model_from_json(json.load(jfile))\n",
    "        model.load_weights(name_weights)\n",
    "        model.compile(\"sgd\", \"mse\")\n",
    "        self.model = model\n",
    "        \n",
    "class CNN_Mimic_Agent(Mimic_Agent):\n",
    "    def __init__(self, *args,lr=0.1,**kwargs):\n",
    "        super(CNN_Mimic_Agent, self).__init__(*args,**kwargs)\n",
    "        \n",
    "        model = Sequential()\n",
    "        model.add(Conv2D(50,(2,2),input_shape=(5,5,self.n_state,),activation='relu'))\n",
    "        model.add(Flatten())\n",
    "        model.add(Dense(4))\n",
    "        model.compile(sgd(lr=lr, decay=1e-4, momentum=0.0), \"mse\")\n",
    "        self.model = model\n",
    "        \n",
    "def train_mimic_agent(ref, agent,env,epoch,epsilon=0.1, decay=0.99, prefix=''):\n",
    "    # Number of won games\n",
    "    score = 0\n",
    "    loss = 0\n",
    "\n",
    "    for e in range(epoch):\n",
    "        # At each epoch, reset the game\n",
    "        state = env.reset()\n",
    "        game_over = False\n",
    "\n",
    "        win = 0\n",
    "        lose = 0\n",
    "        \n",
    "        agent.set_epsilon(epsilon)\n",
    "\n",
    "        while not game_over:\n",
    "            # Perform an action from the reference agent\n",
    "            action = ref.act(state, train=False)\n",
    "\n",
    "            \n",
    "            # Apply an action to the environment, get the next state, the reward and check if game over\n",
    "            prev_state = state\n",
    "            state, reward, game_over = env.act(action, train=True)\n",
    "\n",
    "            # Update the counters\n",
    "            if reward > 0:\n",
    "                win = win + reward\n",
    "            if reward < 0:\n",
    "                lose = lose -reward\n",
    "                \n",
    "            # Apply the reinforcement strategy\n",
    "            loss = agent.reinforce(prev_state,  action)\n",
    "\n",
    "        # Save as a mp4\n",
    "        if e % 10 == 0:\n",
    "            env.draw(prefix+str(e))\n",
    "\n",
    "        # Update stats\n",
    "        score += win-lose\n",
    "\n",
    "        print(\"Epoch {:03d}/{:03d} | Loss {:.4f} | Win/lose count {}/{} ({})\"\n",
    "              .format(e, epoch, loss, win, lose, win-lose))\n",
    "        agent.save(name_weights=prefix+'model.h5',name_model=prefix+'model.json')"
   ]
  },
  {
   "cell_type": "code",
   "execution_count": 70,
   "metadata": {},
   "outputs": [
    {
     "name": "stdout",
     "output_type": "stream",
     "text": [
      "Epoch 000/050 | Loss 3.7401 | Win/lose count 24.0/19.69999999999999 (4.300000000000011)\n",
      "Epoch 001/050 | Loss 3.3806 | Win/lose count 23.0/21.000000000000004 (1.9999999999999964)\n",
      "Epoch 002/050 | Loss 3.0496 | Win/lose count 17.0/16.99999999999999 (1.0658141036401503e-14)\n",
      "Epoch 003/050 | Loss 3.8314 | Win/lose count 23.0/15.599999999999984 (7.400000000000016)\n",
      "Epoch 004/050 | Loss 3.8564 | Win/lose count 21.0/21.50000000000001 (-0.5000000000000107)\n",
      "Epoch 005/050 | Loss 3.2420 | Win/lose count 20.0/15.799999999999978 (4.200000000000022)\n",
      "Epoch 006/050 | Loss 3.6913 | Win/lose count 23.0/19.899999999999984 (3.1000000000000156)\n",
      "Epoch 007/050 | Loss 4.1680 | Win/lose count 26.5/16.99999999999998 (9.500000000000021)\n",
      "Epoch 008/050 | Loss 2.9198 | Win/lose count 21.5/17.499999999999986 (4.000000000000014)\n",
      "Epoch 009/050 | Loss 3.4912 | Win/lose count 26.5/17.799999999999994 (8.700000000000006)\n",
      "Epoch 010/050 | Loss 3.1918 | Win/lose count 22.0/19.29999999999999 (2.70000000000001)\n",
      "Epoch 011/050 | Loss 2.7164 | Win/lose count 22.5/19.999999999999996 (2.5000000000000036)\n",
      "Epoch 012/050 | Loss 2.7344 | Win/lose count 22.5/13.999999999999986 (8.500000000000014)\n",
      "Epoch 013/050 | Loss 3.0581 | Win/lose count 26.0/19.399999999999995 (6.600000000000005)\n",
      "Epoch 014/050 | Loss 3.1072 | Win/lose count 20.5/21.20000000000001 (-0.70000000000001)\n",
      "Epoch 015/050 | Loss 3.1779 | Win/lose count 24.5/17.299999999999997 (7.200000000000003)\n",
      "Epoch 016/050 | Loss 3.3151 | Win/lose count 23.0/15.199999999999969 (7.800000000000031)\n",
      "Epoch 017/050 | Loss 2.9411 | Win/lose count 20.5/25.599999999999994 (-5.099999999999994)\n",
      "Epoch 018/050 | Loss 3.2214 | Win/lose count 22.0/24.70000000000001 (-2.70000000000001)\n",
      "Epoch 019/050 | Loss 3.0083 | Win/lose count 23.0/15.499999999999975 (7.500000000000025)\n",
      "Epoch 020/050 | Loss 3.0191 | Win/lose count 20.0/17.69999999999998 (2.3000000000000185)\n",
      "Epoch 021/050 | Loss 3.0082 | Win/lose count 21.5/13.899999999999979 (7.600000000000021)\n",
      "Epoch 022/050 | Loss 3.0935 | Win/lose count 27.0/14.499999999999984 (12.500000000000016)\n",
      "Epoch 023/050 | Loss 3.2358 | Win/lose count 26.5/15.99999999999998 (10.50000000000002)\n",
      "Epoch 024/050 | Loss 2.8058 | Win/lose count 20.5/20.1 (0.3999999999999986)\n",
      "Epoch 025/050 | Loss 3.2397 | Win/lose count 24.5/13.99999999999998 (10.50000000000002)\n",
      "Epoch 026/050 | Loss 3.4108 | Win/lose count 24.5/17.59999999999999 (6.900000000000009)\n",
      "Epoch 027/050 | Loss 3.0698 | Win/lose count 29.0/15.599999999999982 (13.400000000000018)\n",
      "Epoch 028/050 | Loss 2.8254 | Win/lose count 20.5/15.79999999999998 (4.700000000000021)\n",
      "Epoch 029/050 | Loss 2.9390 | Win/lose count 25.5/13.999999999999982 (11.500000000000018)\n",
      "Epoch 030/050 | Loss 2.2726 | Win/lose count 25.5/18.49999999999999 (7.000000000000011)\n",
      "Epoch 031/050 | Loss 3.2677 | Win/lose count 24.5/17.29999999999999 (7.20000000000001)\n",
      "Epoch 032/050 | Loss 3.1954 | Win/lose count 28.0/16.199999999999985 (11.800000000000015)\n",
      "Epoch 033/050 | Loss 3.1648 | Win/lose count 23.5/18.099999999999987 (5.400000000000013)\n",
      "Epoch 034/050 | Loss 2.8789 | Win/lose count 19.5/20.499999999999993 (-0.9999999999999929)\n",
      "Epoch 035/050 | Loss 2.8944 | Win/lose count 28.0/14.699999999999982 (13.300000000000018)\n",
      "Epoch 036/050 | Loss 3.2854 | Win/lose count 23.0/20.500000000000014 (2.499999999999986)\n",
      "Epoch 037/050 | Loss 2.5071 | Win/lose count 25.0/13.199999999999983 (11.800000000000017)\n",
      "Epoch 038/050 | Loss 3.2987 | Win/lose count 23.5/18.599999999999998 (4.900000000000002)\n",
      "Epoch 039/050 | Loss 3.2141 | Win/lose count 25.0/17.89999999999998 (7.100000000000019)\n",
      "Epoch 040/050 | Loss 2.8098 | Win/lose count 20.5/18.799999999999994 (1.7000000000000064)\n",
      "Epoch 041/050 | Loss 3.1250 | Win/lose count 22.0/18.49999999999999 (3.5000000000000107)\n",
      "Epoch 042/050 | Loss 2.5874 | Win/lose count 25.0/14.499999999999984 (10.500000000000016)\n",
      "Epoch 043/050 | Loss 3.3804 | Win/lose count 25.0/17.099999999999984 (7.900000000000016)\n",
      "Epoch 044/050 | Loss 3.2464 | Win/lose count 24.0/15.399999999999979 (8.600000000000021)\n",
      "Epoch 045/050 | Loss 2.7201 | Win/lose count 25.5/16.79999999999999 (8.70000000000001)\n",
      "Epoch 046/050 | Loss 3.2133 | Win/lose count 24.0/19.099999999999987 (4.900000000000013)\n",
      "Epoch 047/050 | Loss 2.9570 | Win/lose count 21.5/20.099999999999994 (1.4000000000000057)\n",
      "Epoch 048/050 | Loss 3.4061 | Win/lose count 26.5/14.199999999999976 (12.300000000000024)\n",
      "Epoch 049/050 | Loss 2.6485 | Win/lose count 21.0/16.099999999999977 (4.9000000000000234)\n"
     ]
    }
   ],
   "source": [
    "epochs_train = 50\n",
    "pro_agent = agent\n",
    "mimic_agent = CNN_Mimic_Agent(size, lr=.01, epsilon = 0.15, memory_size=5000, batch_size = 32,n_state=2)\n",
    "env = EnvironmentExploring(grid_size=size, max_time=T, temperature=0.3)\n",
    "train_mimic_agent(pro_agent,mimic_agent, env, epochs_train, prefix='train_cnn_mimick_agent')"
   ]
  },
  {
   "cell_type": "code",
   "execution_count": 71,
   "metadata": {},
   "outputs": [
    {
     "name": "stdout",
     "output_type": "stream",
     "text": [
      "Win/lose count 14.5/4.0. Average score (5.25)\n",
      "Win/lose count 17.5/1.0. Average score (9.0)\n",
      "Win/lose count 18.5/2.0. Average score (10.875)\n",
      "Win/lose count 28.0/2.0. Average score (13.9)\n",
      "Win/lose count 23.0/4.0. Average score (14.75)\n",
      "Win/lose count 21.5/1.0. Average score (15.571428571428571)\n",
      "Win/lose count 21.0/1.0. Average score (16.125)\n",
      "Win/lose count 23.5/1.0. Average score (16.833333333333332)\n",
      "Win/lose count 28.0/0. Average score (17.95)\n",
      "Win/lose count 26.0/5.0. Average score (18.227272727272727)\n",
      "Final score: 20.05\n"
     ]
    },
    {
     "data": {
      "text/html": [
       "<video alt=\"test\" controls>\n",
       "                <source src=\"data:video/mp4;base64,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\" type=\"video/mp4\" />\n",
       "             </video>"
      ],
      "text/plain": [
       "<IPython.core.display.HTML object>"
      ]
     },
     "execution_count": 71,
     "metadata": {},
     "output_type": "execute_result"
    }
   ],
   "source": [
    "# Evaluation\n",
    "env_test = Environment(grid_size=size, max_time=T,temperature=0.3)\n",
    "test(mimic_agent,env_test,epochs_test,prefix='test_cnn_mimick_agent')\n",
    "HTML(display_videos('test_cnn_mimick_agent5.mp4'))"
   ]
  },
  {
   "cell_type": "markdown",
   "metadata": {},
   "source": [
    "We do see an improvement in the performance but it is still not a gamewinner as it eats the poison at times and leaves a cheese or two"
   ]
  }
 ],
 "metadata": {
  "kernelspec": {
   "display_name": "Python 3",
   "language": "python",
   "name": "python3"
  },
  "language_info": {
   "codemirror_mode": {
    "name": "ipython",
    "version": 3
   },
   "file_extension": ".py",
   "mimetype": "text/x-python",
   "name": "python",
   "nbconvert_exporter": "python",
   "pygments_lexer": "ipython3",
   "version": "3.7.3"
  }
 },
 "nbformat": 4,
 "nbformat_minor": 2
}
